{
 "cells": [
  {
   "cell_type": "markdown",
   "metadata": {},
   "source": [
    "# 031_欠損値を複数の参照dfを参照して穴埋めする関数を作成:　試作版\n",
    "\n",
    "## 目的\n",
    "\n",
    "- 更新用データフレームの欠損値を別にある参照用データフレームの値で穴埋めしたい\n",
    "\n",
    "## 条件\n",
    "\n",
    "- 使用する情報は、データフレームは更新用（tbl）と参照用データフレームが２つ(emst、fmst)、priceの初期値（固定値）\n",
    "- tbl.priceが欠損値の時に以下の条件で穴埋め処理を行う\n",
    "\n",
    "### ルール１\n",
    "- tbl.lcdがEで始まる時は、emstのpriceで埋めます\n",
    "- tbl.lcdがE始まりではないときは、fmstのpriceで埋めます\n",
    "\n",
    "### ルール２\n",
    "- emst.lcd、fmst.lcdにtbl.mstと同じlcdがない場合があります。\n",
    "- emst.lcd、fmst.lcdにtbl.mstと同じlcdがあっても該当するpriceの値が入っていない場合があります。\n",
    "\n",
    "### ルール３\n",
    "- 上のルールで価が決まらない場合には、予め決めて置いた固定値でで埋めてしまいます\n"
   ]
  },
  {
   "cell_type": "markdown",
   "metadata": {},
   "source": [
    "## 1. 入力：データフレームを作成"
   ]
  },
  {
   "cell_type": "code",
   "execution_count": 1,
   "metadata": {},
   "outputs": [
    {
     "data": {
      "text/html": [
       "<div>\n",
       "<style scoped>\n",
       "    .dataframe tbody tr th:only-of-type {\n",
       "        vertical-align: middle;\n",
       "    }\n",
       "\n",
       "    .dataframe tbody tr th {\n",
       "        vertical-align: top;\n",
       "    }\n",
       "\n",
       "    .dataframe thead th {\n",
       "        text-align: right;\n",
       "    }\n",
       "</style>\n",
       "<table border=\"1\" class=\"dataframe\">\n",
       "  <thead>\n",
       "    <tr style=\"text-align: right;\">\n",
       "      <th></th>\n",
       "      <th>lcd</th>\n",
       "      <th>val</th>\n",
       "    </tr>\n",
       "  </thead>\n",
       "  <tbody>\n",
       "    <tr>\n",
       "      <th>0</th>\n",
       "      <td>NaN</td>\n",
       "      <td>100</td>\n",
       "    </tr>\n",
       "    <tr>\n",
       "      <th>1</th>\n",
       "      <td>NaN</td>\n",
       "      <td></td>\n",
       "    </tr>\n",
       "    <tr>\n",
       "      <th>2</th>\n",
       "      <td>NaN</td>\n",
       "      <td>None</td>\n",
       "    </tr>\n",
       "    <tr>\n",
       "      <th>3</th>\n",
       "      <td>NaN</td>\n",
       "      <td></td>\n",
       "    </tr>\n",
       "    <tr>\n",
       "      <th>4</th>\n",
       "      <td>NaN</td>\n",
       "      <td>100</td>\n",
       "    </tr>\n",
       "    <tr>\n",
       "      <th>5</th>\n",
       "      <td>NaN</td>\n",
       "      <td></td>\n",
       "    </tr>\n",
       "    <tr>\n",
       "      <th>6</th>\n",
       "      <td>NaN</td>\n",
       "      <td>None</td>\n",
       "    </tr>\n",
       "    <tr>\n",
       "      <th>7</th>\n",
       "      <td>NaN</td>\n",
       "      <td></td>\n",
       "    </tr>\n",
       "  </tbody>\n",
       "</table>\n",
       "</div>"
      ],
      "text/plain": [
       "   lcd   val\n",
       "0  NaN   100\n",
       "1  NaN      \n",
       "2  NaN  None\n",
       "3  NaN      \n",
       "4  NaN   100\n",
       "5  NaN      \n",
       "6  NaN  None\n",
       "7  NaN      "
      ]
     },
     "execution_count": 1,
     "metadata": {},
     "output_type": "execute_result"
    }
   ],
   "source": [
    "import pandas as pd\n",
    "\n",
    "\n",
    "# 参照df その１\n",
    "emst = pd.DataFrame(\n",
    "    [\n",
    "    {\"cd\":\"E001\",\"val\":1},\n",
    "    {\"cd\":\"E002\",\"val\":3}\n",
    "    ],columns=[\"lcd\",\"val\"]\n",
    ")\n",
    "# 参照df その２\n",
    "fmst = pd.DataFrame(\n",
    "    [\n",
    "    {\"cd\":\"F001\",\"val\":2},\n",
    "    {\"cd\":\"F002\",\"val\":4}\n",
    "    ],columns=[\"lcd\",\"val\"]\n",
    ")\n",
    "\n",
    "# 更新tbl\n",
    "def create_tbl():\n",
    "    tbl = pd.DataFrame(\n",
    "        [\n",
    "        {\"cd\": \"E001\",  \"val\": 100},\n",
    "        {\"cd\": \"E001\",  \"val\": ''},\n",
    "        {\"cd\": \"E001\",  \"val\": None},\n",
    "        {\"cd\": \"E002\",  \"val\": ''},\n",
    "        {\"cd\": \"F001\",  \"val\": 100},\n",
    "        {\"cd\": \"F001\",  \"val\": ''},\n",
    "        {\"cd\": \"F001\",  \"val\": None},\n",
    "        {\"cd\": \"F002\",  \"val\": ''}\n",
    "        ],columns=[\"lcd\", \"val\"]\n",
    "    )\n",
    "    return tbl\n",
    "\n",
    "tbl = create_tbl()\n",
    "tbl\n"
   ]
  },
  {
   "cell_type": "markdown",
   "metadata": {},
   "source": [
    "### 出力：理想形"
   ]
  },
  {
   "cell_type": "markdown",
   "metadata": {},
   "source": [
    "## 参考：for文による処理"
   ]
  },
  {
   "cell_type": "code",
   "execution_count": 18,
   "metadata": {},
   "outputs": [],
   "source": [
    "import math\n",
    "\n",
    "def fillnan_mst_for(tbl, fmst, emst):\n",
    "    \"\"\"\n",
    "    func\n",
    "    tblのvalがNanのとき、\n",
    "    cdが'F'で始まる時は、fmstのvalで補完埋めします\n",
    "    cdが'E'で始まる時は、emstのvalで補完埋めします\n",
    "    それ以外のときはNanのままにします。\n",
    "    In\n",
    "    tbl : columns=[\"cd\",\"val\"]のpd.DataFrame（穴埋め更新対象）\n",
    "    fmst : columns=[\"cd\",\"val\"]のpd.DataFrame（参照用）\n",
    "    emst : columns=[\"cd\",\"val\"]のpd.DataFrame（参照用）\n",
    "    out\n",
    "    fmst, emstを参照してNanを補完埋めしたtbl\n",
    "    \"\"\"\n",
    "    for i in range (len(tbl)):\n",
    "        if math.isnan(tbl.loc[i, \"val\"]):\n",
    "            if tbl.loc[i, \"cd\"].startswith(\"F\"):\n",
    "                tbl.loc[i, \"val\"] = fmst[fmst[\"cd\"] == tbl.loc[i, \"cd\"]][\"val\"].values[0]\n",
    "            elif tbl.loc[i, \"cd\"].startswith(\"E\"):\n",
    "                tbl.loc[i, \"val\"] = emst[emst[\"cd\"] == tbl.loc[i, \"cd\"]][\"val\"].values[0]\n",
    "        \n",
    "    return tbl"
   ]
  },
  {
   "cell_type": "code",
   "execution_count": null,
   "metadata": {},
   "outputs": [],
   "source": [
    "# df作成\n",
    "tbl = create_tbl()\n",
    "# 空文字をNoneに置換\n",
    "tbl = tbl.replace({'': None})\n",
    "\n",
    "%time tbl = fillnan_mst_for(tbl, fmst, emst)\n",
    "\n"
   ]
  }
 ],
 "metadata": {
  "kernelspec": {
   "display_name": "Python 3",
   "language": "python",
   "name": "python3"
  },
  "language_info": {
   "codemirror_mode": {
    "name": "ipython",
    "version": 3
   },
   "file_extension": ".py",
   "mimetype": "text/x-python",
   "name": "python",
   "nbconvert_exporter": "python",
   "pygments_lexer": "ipython3",
   "version": "3.6.4"
  }
 },
 "nbformat": 4,
 "nbformat_minor": 2
}
