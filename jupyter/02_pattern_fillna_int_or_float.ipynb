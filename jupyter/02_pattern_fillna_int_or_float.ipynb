{
 "cells": [
  {
   "cell_type": "markdown",
   "metadata": {},
   "source": [
    "# 欠損値を穴埋めする関数を作成\n",
    "\n",
    "## 条件\n",
    "\n",
    "- 欠損箇所を埋める既定値には列ごとにある\n",
    "- データはintとflortの場合がある\n",
    "- 列内のNoneのところだけに穴埋め処理し、他は影響なし\n",
    "- 空文字はNone扱い\n",
    "- 既定値の値もデータ型もそのまま変えずに穴埋め\n",
    "- 穴埋めの既定値を基本的にint型として、float型で穴埋めしたい列名を引数でリスト形式で指定できる\n",
    "\n",
    "## 困りごと\n",
    "\n",
    "pd.fillna(var)を使うと、以下の機能が実現できない。\n",
    "\n",
    "- 欠損値を既定値で埋めるけど、他の値のデータ型は壊したくない。\n",
    "- 列ごとに別の値で埋めたい。\n",
    "- NaNは無視したい。\n",
    "\n",
    "\n"
   ]
  },
  {
   "cell_type": "markdown",
   "metadata": {},
   "source": [
    "## 1. 入力：データフレームを作成"
   ]
  },
  {
   "cell_type": "code",
   "execution_count": 2,
   "metadata": {
    "scrolled": false
   },
   "outputs": [
    {
     "data": {
      "text/html": [
       "<div>\n",
       "<style scoped>\n",
       "    .dataframe tbody tr th:only-of-type {\n",
       "        vertical-align: middle;\n",
       "    }\n",
       "\n",
       "    .dataframe tbody tr th {\n",
       "        vertical-align: top;\n",
       "    }\n",
       "\n",
       "    .dataframe thead th {\n",
       "        text-align: right;\n",
       "    }\n",
       "</style>\n",
       "<table border=\"1\" class=\"dataframe\">\n",
       "  <thead>\n",
       "    <tr style=\"text-align: right;\">\n",
       "      <th></th>\n",
       "      <th>hash</th>\n",
       "      <th>age</th>\n",
       "      <th>wt</th>\n",
       "    </tr>\n",
       "  </thead>\n",
       "  <tbody>\n",
       "    <tr>\n",
       "      <th>0</th>\n",
       "      <td>10</td>\n",
       "      <td>28</td>\n",
       "      <td>56.1</td>\n",
       "    </tr>\n",
       "    <tr>\n",
       "      <th>1</th>\n",
       "      <td>20</td>\n",
       "      <td>None</td>\n",
       "      <td>None</td>\n",
       "    </tr>\n",
       "    <tr>\n",
       "      <th>2</th>\n",
       "      <td>30</td>\n",
       "      <td></td>\n",
       "      <td></td>\n",
       "    </tr>\n",
       "    <tr>\n",
       "      <th>3</th>\n",
       "      <td>40</td>\n",
       "      <td>NaN</td>\n",
       "      <td>100</td>\n",
       "    </tr>\n",
       "  </tbody>\n",
       "</table>\n",
       "</div>"
      ],
      "text/plain": [
       "   hash   age    wt\n",
       "0    10    28  56.1\n",
       "1    20  None  None\n",
       "2    30            \n",
       "3    40   NaN   100"
      ]
     },
     "execution_count": 2,
     "metadata": {},
     "output_type": "execute_result"
    }
   ],
   "source": [
    "# 欠損値の穴埋め\n",
    "import numpy as np\n",
    "import pandas as pd\n",
    "dfm = pd.DataFrame(\n",
    "    [\n",
    "    {\"hash\":10,\"age\":28,\"wt\":56.1},\n",
    "    {\"hash\":20,\"age\":None,\"wt\":None},\n",
    "    {\"hash\":30,\"age\":'',\"wt\":''},\n",
    "    {\"hash\":40,\"name\":33,\"wt\":100}\n",
    "    ],columns=[\"hash\",\"age\",\"wt\"]\n",
    ")\n",
    "\n",
    "dfm\n",
    "\n"
   ]
  },
  {
   "cell_type": "markdown",
   "metadata": {},
   "source": [
    "## 2. 処理：データ型を変えずに穴埋め"
   ]
  },
  {
   "cell_type": "markdown",
   "metadata": {},
   "source": [
    "1. データ型を保持しておくデータフレームを作成\n",
    "2. データをNoneにのみ代入（NaNは無視）\n",
    "3. データ型が代入した値に応じて列ごとに変化してしまうので、"
   ]
  },
  {
   "cell_type": "code",
   "execution_count": 5,
   "metadata": {},
   "outputs": [
    {
     "data": {
      "text/html": [
       "<div>\n",
       "<style scoped>\n",
       "    .dataframe tbody tr th:only-of-type {\n",
       "        vertical-align: middle;\n",
       "    }\n",
       "\n",
       "    .dataframe tbody tr th {\n",
       "        vertical-align: top;\n",
       "    }\n",
       "\n",
       "    .dataframe thead th {\n",
       "        text-align: right;\n",
       "    }\n",
       "</style>\n",
       "<table border=\"1\" class=\"dataframe\">\n",
       "  <thead>\n",
       "    <tr style=\"text-align: right;\">\n",
       "      <th></th>\n",
       "      <th>hash</th>\n",
       "      <th>age</th>\n",
       "      <th>wt</th>\n",
       "    </tr>\n",
       "  </thead>\n",
       "  <tbody>\n",
       "    <tr>\n",
       "      <th>0</th>\n",
       "      <td>&lt;class 'int'&gt;</td>\n",
       "      <td>&lt;class 'int'&gt;</td>\n",
       "      <td>&lt;class 'float'&gt;</td>\n",
       "    </tr>\n",
       "    <tr>\n",
       "      <th>1</th>\n",
       "      <td>&lt;class 'int'&gt;</td>\n",
       "      <td>&lt;class 'NoneType'&gt;</td>\n",
       "      <td>&lt;class 'NoneType'&gt;</td>\n",
       "    </tr>\n",
       "    <tr>\n",
       "      <th>2</th>\n",
       "      <td>&lt;class 'int'&gt;</td>\n",
       "      <td>&lt;class 'str'&gt;</td>\n",
       "      <td>&lt;class 'str'&gt;</td>\n",
       "    </tr>\n",
       "    <tr>\n",
       "      <th>3</th>\n",
       "      <td>&lt;class 'int'&gt;</td>\n",
       "      <td>&lt;class 'float'&gt;</td>\n",
       "      <td>&lt;class 'int'&gt;</td>\n",
       "    </tr>\n",
       "  </tbody>\n",
       "</table>\n",
       "</div>"
      ],
      "text/plain": [
       "            hash                 age                  wt\n",
       "0  <class 'int'>       <class 'int'>     <class 'float'>\n",
       "1  <class 'int'>  <class 'NoneType'>  <class 'NoneType'>\n",
       "2  <class 'int'>       <class 'str'>       <class 'str'>\n",
       "3  <class 'int'>     <class 'float'>       <class 'int'>"
      ]
     },
     "execution_count": 5,
     "metadata": {},
     "output_type": "execute_result"
    }
   ],
   "source": [
    "# 1. データ型を保持しておくデータフレームを作成\n",
    "dfm_type = dfm.copy()\n",
    "\n",
    "def get_type(val):\n",
    "    return type(val)\n",
    "\n",
    "dfm_type = dfm_type.applymap(get_type)\n",
    "\n",
    "dfm_type"
   ]
  },
  {
   "cell_type": "code",
   "execution_count": 6,
   "metadata": {
    "scrolled": true
   },
   "outputs": [
    {
     "data": {
      "text/html": [
       "<div>\n",
       "<style scoped>\n",
       "    .dataframe tbody tr th:only-of-type {\n",
       "        vertical-align: middle;\n",
       "    }\n",
       "\n",
       "    .dataframe tbody tr th {\n",
       "        vertical-align: top;\n",
       "    }\n",
       "\n",
       "    .dataframe thead th {\n",
       "        text-align: right;\n",
       "    }\n",
       "</style>\n",
       "<table border=\"1\" class=\"dataframe\">\n",
       "  <thead>\n",
       "    <tr style=\"text-align: right;\">\n",
       "      <th></th>\n",
       "      <th>hash</th>\n",
       "      <th>age</th>\n",
       "      <th>wt</th>\n",
       "    </tr>\n",
       "  </thead>\n",
       "  <tbody>\n",
       "    <tr>\n",
       "      <th>0</th>\n",
       "      <td>10</td>\n",
       "      <td>28</td>\n",
       "      <td>56.1</td>\n",
       "    </tr>\n",
       "    <tr>\n",
       "      <th>1</th>\n",
       "      <td>20</td>\n",
       "      <td>99</td>\n",
       "      <td>99.9</td>\n",
       "    </tr>\n",
       "    <tr>\n",
       "      <th>2</th>\n",
       "      <td>30</td>\n",
       "      <td>99</td>\n",
       "      <td>99.9</td>\n",
       "    </tr>\n",
       "    <tr>\n",
       "      <th>3</th>\n",
       "      <td>40</td>\n",
       "      <td>NaN</td>\n",
       "      <td>100</td>\n",
       "    </tr>\n",
       "  </tbody>\n",
       "</table>\n",
       "</div>"
      ],
      "text/plain": [
       "  hash  age    wt\n",
       "0   10   28  56.1\n",
       "1   20   99  99.9\n",
       "2   30   99  99.9\n",
       "3   40  NaN   100"
      ]
     },
     "execution_count": 6,
     "metadata": {},
     "output_type": "execute_result"
    }
   ],
   "source": [
    "# 2. データ型を確認し、'NoneType'の場合のみ代入\n",
    "def fill_none(dfm, col_name, default_val):\n",
    "    DEFAULT = default_val\n",
    "\n",
    "    def set_default(val):\n",
    "        if isinstance(val, type(None)):\n",
    "            return DEFAULT\n",
    "        else:\n",
    "            return val    \n",
    "\n",
    "    # 欠損値（None）を穴埋め\n",
    "    dfm[col_name] = dfm[col_name].map(set_default)\n",
    "    \n",
    "    return dfm\n",
    "\n",
    "# 3. 保持しておいたデータ型を適用\n",
    "def set_type(dfm, dfm_type, col_name, default_val):\n",
    "    for i in range(len(dfm_type)):\n",
    "        pre_type = dfm_type.loc[i, col_name]\n",
    "        if pre_type == type(None):\n",
    "            if isinstance(default_val, int):\n",
    "                dfm.loc[i, col_name] = int(dfm.loc[i, col_name])\n",
    "            elif isinstance(default_val, float):\n",
    "                dfm.loc[i, col_name] = float(dfm.loc[i, col_name])\n",
    "        elif pre_type == int:\n",
    "            dfm.loc[i, col_name] = int(dfm.loc[i, col_name])\n",
    "        elif pre_type == float:\n",
    "            dfm.loc[i, col_name] = float(dfm.loc[i, col_name])\n",
    "            \n",
    "    return dfm\n",
    "\n",
    "\n",
    "# 既定値を設定\n",
    "AGE_DEFAULT = 99 # int型\n",
    "WT_DEFAULT = 99.9 # float型\n",
    "\n",
    "# 列名と既定値のペアを辞書型で作成\n",
    "default_val_dict = {'age': AGE_DEFAULT, 'wt': WT_DEFAULT}\n",
    "\n",
    "# 空文字をNoneに置換\n",
    "dfm = dfm.replace('', None)\n",
    "\n",
    "# データ型が自動で変更されないように、一時的にstr型の行を追加する\n",
    "dfm.loc[len(dfm)] = ['tmp'] * len(dfm.columns)\n",
    "\n",
    "# データ型に影響を与えずに欠損値の穴埋めを行う\n",
    "for col_name, default_val in default_val_dict.items():\n",
    "    dfm = fill_none(dfm, col_name, default_val)\n",
    "    set_type(dfm, dfm_type, col_name, default_val)\n",
    "\n",
    "# データ型が自動で変更されないように追加した行を削除\n",
    "dfm = dfm.drop(len(dfm)-1, axis=0)\n",
    "      \n",
    "dfm"
   ]
  },
  {
   "cell_type": "markdown",
   "metadata": {},
   "source": [
    "## 3. 出力：各データのデータ型を確認"
   ]
  },
  {
   "cell_type": "code",
   "execution_count": 10,
   "metadata": {
    "scrolled": false
   },
   "outputs": [
    {
     "name": "stdout",
     "output_type": "stream",
     "text": [
      "[hash]==================\n",
      "0    <class 'int'>\n",
      "1    <class 'int'>\n",
      "2    <class 'int'>\n",
      "3    <class 'int'>\n",
      "Name: hash, dtype: object\n",
      "\n",
      "[age]==================\n",
      "0      <class 'int'>\n",
      "1      <class 'int'>\n",
      "2      <class 'int'>\n",
      "3    <class 'float'>\n",
      "Name: age, dtype: object\n",
      "\n",
      "[wt]==================\n",
      "0    <class 'float'>\n",
      "1    <class 'float'>\n",
      "2    <class 'float'>\n",
      "3      <class 'int'>\n",
      "Name: wt, dtype: object\n",
      "\n"
     ]
    },
    {
     "data": {
      "text/html": [
       "<div>\n",
       "<style scoped>\n",
       "    .dataframe tbody tr th:only-of-type {\n",
       "        vertical-align: middle;\n",
       "    }\n",
       "\n",
       "    .dataframe tbody tr th {\n",
       "        vertical-align: top;\n",
       "    }\n",
       "\n",
       "    .dataframe thead th {\n",
       "        text-align: right;\n",
       "    }\n",
       "</style>\n",
       "<table border=\"1\" class=\"dataframe\">\n",
       "  <thead>\n",
       "    <tr style=\"text-align: right;\">\n",
       "      <th></th>\n",
       "      <th>hash</th>\n",
       "      <th>age</th>\n",
       "      <th>wt</th>\n",
       "    </tr>\n",
       "  </thead>\n",
       "  <tbody>\n",
       "    <tr>\n",
       "      <th>0</th>\n",
       "      <td>10</td>\n",
       "      <td>28</td>\n",
       "      <td>56.1</td>\n",
       "    </tr>\n",
       "    <tr>\n",
       "      <th>1</th>\n",
       "      <td>20</td>\n",
       "      <td>99</td>\n",
       "      <td>99.9</td>\n",
       "    </tr>\n",
       "    <tr>\n",
       "      <th>2</th>\n",
       "      <td>30</td>\n",
       "      <td>99</td>\n",
       "      <td>99.9</td>\n",
       "    </tr>\n",
       "    <tr>\n",
       "      <th>3</th>\n",
       "      <td>40</td>\n",
       "      <td>NaN</td>\n",
       "      <td>100</td>\n",
       "    </tr>\n",
       "  </tbody>\n",
       "</table>\n",
       "</div>"
      ],
      "text/plain": [
       "  hash  age    wt\n",
       "0   10   28  56.1\n",
       "1   20   99  99.9\n",
       "2   30   99  99.9\n",
       "3   40  NaN   100"
      ]
     },
     "execution_count": 10,
     "metadata": {},
     "output_type": "execute_result"
    }
   ],
   "source": [
    "for col in dfm.columns:\n",
    "    print('[{}]=================='.format(col))\n",
    "    print(dfm[col].map(type))\n",
    "    print()\n",
    "\n",
    "dfm"
   ]
  },
  {
   "cell_type": "markdown",
   "metadata": {},
   "source": [
    "## TODO：機能を一般化"
   ]
  },
  {
   "cell_type": "code",
   "execution_count": null,
   "metadata": {},
   "outputs": [],
   "source": []
  },
  {
   "cell_type": "code",
   "execution_count": null,
   "metadata": {},
   "outputs": [],
   "source": []
  },
  {
   "cell_type": "markdown",
   "metadata": {},
   "source": [
    "---"
   ]
  },
  {
   "cell_type": "code",
   "execution_count": null,
   "metadata": {},
   "outputs": [],
   "source": []
  },
  {
   "cell_type": "code",
   "execution_count": 4,
   "metadata": {
    "scrolled": true
   },
   "outputs": [
    {
     "name": "stdout",
     "output_type": "stream",
     "text": [
      "<class 'str'>\n",
      "<class 'NoneType'>\n",
      "<class 'float'>\n"
     ]
    }
   ],
   "source": [
    "print(type(''))\n",
    "print(type(None))\n",
    "print(type(np.nan))"
   ]
  },
  {
   "cell_type": "code",
   "execution_count": 7,
   "metadata": {},
   "outputs": [
    {
     "data": {
      "text/plain": [
       "int"
      ]
     },
     "execution_count": 7,
     "metadata": {},
     "output_type": "execute_result"
    }
   ],
   "source": [
    "x_int = 99\n",
    "type(x_int)"
   ]
  },
  {
   "cell_type": "code",
   "execution_count": 8,
   "metadata": {},
   "outputs": [
    {
     "data": {
      "text/plain": [
       "float"
      ]
     },
     "execution_count": 8,
     "metadata": {},
     "output_type": "execute_result"
    }
   ],
   "source": [
    "x_float = float(x_int)\n",
    "type(x_float)"
   ]
  },
  {
   "cell_type": "code",
   "execution_count": 9,
   "metadata": {},
   "outputs": [
    {
     "data": {
      "text/plain": [
       "99.0"
      ]
     },
     "execution_count": 9,
     "metadata": {},
     "output_type": "execute_result"
    }
   ],
   "source": [
    "x_float"
   ]
  },
  {
   "cell_type": "code",
   "execution_count": 10,
   "metadata": {},
   "outputs": [
    {
     "data": {
      "text/plain": [
       "type"
      ]
     },
     "execution_count": 10,
     "metadata": {},
     "output_type": "execute_result"
    }
   ],
   "source": [
    "type(type(x_float))"
   ]
  },
  {
   "cell_type": "code",
   "execution_count": null,
   "metadata": {},
   "outputs": [],
   "source": []
  },
  {
   "cell_type": "code",
   "execution_count": 9,
   "metadata": {},
   "outputs": [
    {
     "data": {
      "text/html": [
       "<div>\n",
       "<style scoped>\n",
       "    .dataframe tbody tr th:only-of-type {\n",
       "        vertical-align: middle;\n",
       "    }\n",
       "\n",
       "    .dataframe tbody tr th {\n",
       "        vertical-align: top;\n",
       "    }\n",
       "\n",
       "    .dataframe thead th {\n",
       "        text-align: right;\n",
       "    }\n",
       "</style>\n",
       "<table border=\"1\" class=\"dataframe\">\n",
       "  <thead>\n",
       "    <tr style=\"text-align: right;\">\n",
       "      <th></th>\n",
       "      <th>hash</th>\n",
       "      <th>age</th>\n",
       "      <th>wt</th>\n",
       "    </tr>\n",
       "  </thead>\n",
       "  <tbody>\n",
       "    <tr>\n",
       "      <th>0</th>\n",
       "      <td>10</td>\n",
       "      <td>28</td>\n",
       "      <td>56.1</td>\n",
       "    </tr>\n",
       "    <tr>\n",
       "      <th>1</th>\n",
       "      <td>20</td>\n",
       "      <td>99</td>\n",
       "      <td>99.0</td>\n",
       "    </tr>\n",
       "    <tr>\n",
       "      <th>2</th>\n",
       "      <td>30</td>\n",
       "      <td>99</td>\n",
       "      <td>99.0</td>\n",
       "    </tr>\n",
       "    <tr>\n",
       "      <th>3</th>\n",
       "      <td>40</td>\n",
       "      <td>99</td>\n",
       "      <td>100.0</td>\n",
       "    </tr>\n",
       "  </tbody>\n",
       "</table>\n",
       "</div>"
      ],
      "text/plain": [
       "   hash  age     wt\n",
       "0    10   28   56.1\n",
       "1    20   99   99.0\n",
       "2    30   99   99.0\n",
       "3    40   99  100.0"
      ]
     },
     "execution_count": 9,
     "metadata": {},
     "output_type": "execute_result"
    }
   ],
   "source": [
    "# 欠損箇所を埋める既定値には列ごとにある。データはintとflortの場合がある\n",
    "# これはダメなケース\n",
    "# AGE_DEFAULT = 99\n",
    "# WT_DEFAULT = 99.9\n",
    "\n",
    "dfm = dfm.fillna(99)\n",
    "\n",
    "dfm"
   ]
  },
  {
   "cell_type": "code",
   "execution_count": 39,
   "metadata": {
    "scrolled": true
   },
   "outputs": [
    {
     "data": {
      "text/html": [
       "<div>\n",
       "<style scoped>\n",
       "    .dataframe tbody tr th:only-of-type {\n",
       "        vertical-align: middle;\n",
       "    }\n",
       "\n",
       "    .dataframe tbody tr th {\n",
       "        vertical-align: top;\n",
       "    }\n",
       "\n",
       "    .dataframe thead th {\n",
       "        text-align: right;\n",
       "    }\n",
       "</style>\n",
       "<table border=\"1\" class=\"dataframe\">\n",
       "  <thead>\n",
       "    <tr style=\"text-align: right;\">\n",
       "      <th></th>\n",
       "      <th>hash</th>\n",
       "      <th>age</th>\n",
       "      <th>wt</th>\n",
       "    </tr>\n",
       "  </thead>\n",
       "  <tbody>\n",
       "    <tr>\n",
       "      <th>0</th>\n",
       "      <td>10</td>\n",
       "      <td>28</td>\n",
       "      <td>56.1</td>\n",
       "    </tr>\n",
       "    <tr>\n",
       "      <th>1</th>\n",
       "      <td>20</td>\n",
       "      <td>99</td>\n",
       "      <td>99.9</td>\n",
       "    </tr>\n",
       "    <tr>\n",
       "      <th>2</th>\n",
       "      <td>30</td>\n",
       "      <td>99</td>\n",
       "      <td>99.9</td>\n",
       "    </tr>\n",
       "    <tr>\n",
       "      <th>3</th>\n",
       "      <td>40</td>\n",
       "      <td>99</td>\n",
       "      <td>100.0</td>\n",
       "    </tr>\n",
       "  </tbody>\n",
       "</table>\n",
       "</div>"
      ],
      "text/plain": [
       "   hash  age     wt\n",
       "0    10   28   56.1\n",
       "1    20   99   99.9\n",
       "2    30   99   99.9\n",
       "3    40   99  100.0"
      ]
     },
     "execution_count": 39,
     "metadata": {},
     "output_type": "execute_result"
    }
   ],
   "source": [
    "# 2. 列ごとに異なる値で穴埋め\n",
    "# https://note.nkmk.me/python-pandas-nan-dropna-fillna/\n",
    "\n",
    "dfm = dfm.fillna({\n",
    "    'age': AGE_DEFAULT, \n",
    "    'wt': WT_DEFAULT\n",
    "    })\n",
    "\n",
    "dfm"
   ]
  },
  {
   "cell_type": "code",
   "execution_count": null,
   "metadata": {},
   "outputs": [],
   "source": [
    "# 仕様検討中\n",
    "# 　既定値の値もデータ型もそのまま変えずに穴埋めをしたい。\n",
    "# 　穴埋めの既定値を基本的にint型として、float型で穴埋めしたい列名はリストにして引数で指定する\n",
    "#　列内のNoneのところだけに穴埋め処理し、他は影響しないようにしたい\n"
   ]
  },
  {
   "cell_type": "code",
   "execution_count": null,
   "metadata": {},
   "outputs": [],
   "source": []
  }
 ],
 "metadata": {
  "kernelspec": {
   "display_name": "Python 3",
   "language": "python",
   "name": "python3"
  },
  "language_info": {
   "codemirror_mode": {
    "name": "ipython",
    "version": 3
   },
   "file_extension": ".py",
   "mimetype": "text/x-python",
   "name": "python",
   "nbconvert_exporter": "python",
   "pygments_lexer": "ipython3",
   "version": "3.7.0"
  }
 },
 "nbformat": 4,
 "nbformat_minor": 2
}
