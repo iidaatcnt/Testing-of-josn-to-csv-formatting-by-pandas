{
 "cells": [
  {
   "cell_type": "markdown",
   "metadata": {},
   "source": [
    "# 欠損値を穴埋めする関数を作成\n",
    "\n",
    "## 条件\n",
    "\n",
    "- 欠損箇所を埋める既定値には列ごとにある\n",
    "- データはintとflortの場合がある\n",
    "- 列内のNoneのところだけに穴埋め処理し、他は影響なし\n",
    "- 空文字はNone扱い\n",
    "- 既定値の値もデータ型もそのまま変えずに穴埋め\n",
    "- 穴埋めの既定値を基本的にint型として、float型で穴埋めしたい列名を引数でリスト形式で指定できる\n",
    "\n",
    "## 困りごと\n",
    "\n",
    "pd.fillna(var)を使うと、以下の機能が実現できない。\n",
    "\n",
    "- 欠損値を既定値で埋めるけど、他の値のデータ型は壊したくない。\n",
    "- 列ごとに別の値で埋めたい。\n",
    "- NaNは無視したい。\n",
    "\n",
    "\n"
   ]
  },
  {
   "cell_type": "markdown",
   "metadata": {},
   "source": [
    "## データフレームを作成"
   ]
  },
  {
   "cell_type": "code",
   "execution_count": 47,
   "metadata": {
    "scrolled": false
   },
   "outputs": [
    {
     "data": {
      "text/html": [
       "<div>\n",
       "<style scoped>\n",
       "    .dataframe tbody tr th:only-of-type {\n",
       "        vertical-align: middle;\n",
       "    }\n",
       "\n",
       "    .dataframe tbody tr th {\n",
       "        vertical-align: top;\n",
       "    }\n",
       "\n",
       "    .dataframe thead th {\n",
       "        text-align: right;\n",
       "    }\n",
       "</style>\n",
       "<table border=\"1\" class=\"dataframe\">\n",
       "  <thead>\n",
       "    <tr style=\"text-align: right;\">\n",
       "      <th></th>\n",
       "      <th>hash</th>\n",
       "      <th>age</th>\n",
       "      <th>wt</th>\n",
       "    </tr>\n",
       "  </thead>\n",
       "  <tbody>\n",
       "    <tr>\n",
       "      <th>0</th>\n",
       "      <td>10</td>\n",
       "      <td>28</td>\n",
       "      <td>56.1</td>\n",
       "    </tr>\n",
       "    <tr>\n",
       "      <th>1</th>\n",
       "      <td>20</td>\n",
       "      <td>None</td>\n",
       "      <td>None</td>\n",
       "    </tr>\n",
       "    <tr>\n",
       "      <th>2</th>\n",
       "      <td>30</td>\n",
       "      <td></td>\n",
       "      <td></td>\n",
       "    </tr>\n",
       "    <tr>\n",
       "      <th>3</th>\n",
       "      <td>40</td>\n",
       "      <td>NaN</td>\n",
       "      <td>100</td>\n",
       "    </tr>\n",
       "  </tbody>\n",
       "</table>\n",
       "</div>"
      ],
      "text/plain": [
       "   hash   age    wt\n",
       "0    10    28  56.1\n",
       "1    20  None  None\n",
       "2    30            \n",
       "3    40   NaN   100"
      ]
     },
     "execution_count": 47,
     "metadata": {},
     "output_type": "execute_result"
    }
   ],
   "source": [
    "# 欠損値の穴埋め\n",
    "import numpy as np\n",
    "import pandas as pd\n",
    "dfm = pd.DataFrame(\n",
    "    [\n",
    "    {\"hash\":10,\"age\":28,\"wt\":56.1},\n",
    "    {\"hash\":20,\"age\":None,\"wt\":None},\n",
    "    {\"hash\":30,\"age\":'',\"wt\":''},\n",
    "    {\"hash\":40,\"name\":33,\"wt\":100}\n",
    "    ],columns=[\"hash\",\"age\",\"wt\"]\n",
    ")\n",
    "dfm\n",
    "\n"
   ]
  },
  {
   "cell_type": "markdown",
   "metadata": {},
   "source": [
    "## 各データのデータ型を確認"
   ]
  },
  {
   "cell_type": "code",
   "execution_count": 48,
   "metadata": {
    "scrolled": true
   },
   "outputs": [
    {
     "name": "stdout",
     "output_type": "stream",
     "text": [
      "[hash]==================\n",
      "0    <class 'int'>\n",
      "1    <class 'int'>\n",
      "2    <class 'int'>\n",
      "3    <class 'int'>\n",
      "Name: hash, dtype: object\n",
      "\n",
      "[age]==================\n",
      "0         <class 'int'>\n",
      "1    <class 'NoneType'>\n",
      "2         <class 'str'>\n",
      "3       <class 'float'>\n",
      "Name: age, dtype: object\n",
      "\n",
      "[wt]==================\n",
      "0       <class 'float'>\n",
      "1    <class 'NoneType'>\n",
      "2         <class 'str'>\n",
      "3         <class 'int'>\n",
      "Name: wt, dtype: object\n",
      "\n"
     ]
    }
   ],
   "source": [
    "for col in dfm.columns:\n",
    "    print('[{}]=================='.format(col))\n",
    "    print(dfm[col].map(type))\n",
    "    print()"
   ]
  },
  {
   "cell_type": "markdown",
   "metadata": {},
   "source": [
    "## 空文字をNoneに置換"
   ]
  },
  {
   "cell_type": "code",
   "execution_count": 49,
   "metadata": {},
   "outputs": [
    {
     "name": "stdout",
     "output_type": "stream",
     "text": [
      "<class 'str'>\n",
      "<class 'NoneType'>\n",
      "<class 'float'>\n"
     ]
    }
   ],
   "source": [
    "print(type(''))\n",
    "print(type(None))\n",
    "print(type(np.nan))"
   ]
  },
  {
   "cell_type": "code",
   "execution_count": 50,
   "metadata": {
    "scrolled": true
   },
   "outputs": [
    {
     "data": {
      "text/html": [
       "<div>\n",
       "<style scoped>\n",
       "    .dataframe tbody tr th:only-of-type {\n",
       "        vertical-align: middle;\n",
       "    }\n",
       "\n",
       "    .dataframe tbody tr th {\n",
       "        vertical-align: top;\n",
       "    }\n",
       "\n",
       "    .dataframe thead th {\n",
       "        text-align: right;\n",
       "    }\n",
       "</style>\n",
       "<table border=\"1\" class=\"dataframe\">\n",
       "  <thead>\n",
       "    <tr style=\"text-align: right;\">\n",
       "      <th></th>\n",
       "      <th>hash</th>\n",
       "      <th>age</th>\n",
       "      <th>wt</th>\n",
       "    </tr>\n",
       "  </thead>\n",
       "  <tbody>\n",
       "    <tr>\n",
       "      <th>0</th>\n",
       "      <td>10</td>\n",
       "      <td>28</td>\n",
       "      <td>56.1</td>\n",
       "    </tr>\n",
       "    <tr>\n",
       "      <th>1</th>\n",
       "      <td>20</td>\n",
       "      <td>None</td>\n",
       "      <td>None</td>\n",
       "    </tr>\n",
       "    <tr>\n",
       "      <th>2</th>\n",
       "      <td>30</td>\n",
       "      <td>None</td>\n",
       "      <td>None</td>\n",
       "    </tr>\n",
       "    <tr>\n",
       "      <th>3</th>\n",
       "      <td>40</td>\n",
       "      <td>NaN</td>\n",
       "      <td>100</td>\n",
       "    </tr>\n",
       "  </tbody>\n",
       "</table>\n",
       "</div>"
      ],
      "text/plain": [
       "   hash   age    wt\n",
       "0    10    28  56.1\n",
       "1    20  None  None\n",
       "2    30  None  None\n",
       "3    40   NaN   100"
      ]
     },
     "execution_count": 50,
     "metadata": {},
     "output_type": "execute_result"
    }
   ],
   "source": [
    "# 空文字はNone扱い\n",
    "dfm = dfm.replace('', None)\n",
    "dfm\n"
   ]
  },
  {
   "cell_type": "code",
   "execution_count": 51,
   "metadata": {
    "scrolled": true
   },
   "outputs": [
    {
     "name": "stdout",
     "output_type": "stream",
     "text": [
      "[hash]==================\n",
      "0    <class 'int'>\n",
      "1    <class 'int'>\n",
      "2    <class 'int'>\n",
      "3    <class 'int'>\n",
      "Name: hash, dtype: object\n",
      "\n",
      "[age]==================\n",
      "0         <class 'int'>\n",
      "1    <class 'NoneType'>\n",
      "2    <class 'NoneType'>\n",
      "3       <class 'float'>\n",
      "Name: age, dtype: object\n",
      "\n",
      "[wt]==================\n",
      "0       <class 'float'>\n",
      "1    <class 'NoneType'>\n",
      "2    <class 'NoneType'>\n",
      "3         <class 'int'>\n",
      "Name: wt, dtype: object\n",
      "\n"
     ]
    }
   ],
   "source": [
    "for col in dfm.columns:\n",
    "    print('[{}]=================='.format(col))\n",
    "    print(dfm[col].map(type))\n",
    "    print()"
   ]
  },
  {
   "cell_type": "markdown",
   "metadata": {},
   "source": [
    "## デフォルト値を設定"
   ]
  },
  {
   "cell_type": "code",
   "execution_count": 52,
   "metadata": {},
   "outputs": [],
   "source": [
    "HASH_DEFAULT = 99\n",
    "AGE_DEFAULT = 99 # int型\n",
    "WT_DEFAULT = 99.9 # float型"
   ]
  },
  {
   "cell_type": "code",
   "execution_count": 53,
   "metadata": {},
   "outputs": [
    {
     "data": {
      "text/plain": [
       "int"
      ]
     },
     "execution_count": 53,
     "metadata": {},
     "output_type": "execute_result"
    }
   ],
   "source": [
    "x_int = 99\n",
    "type(x_int)"
   ]
  },
  {
   "cell_type": "code",
   "execution_count": 54,
   "metadata": {},
   "outputs": [
    {
     "data": {
      "text/plain": [
       "float"
      ]
     },
     "execution_count": 54,
     "metadata": {},
     "output_type": "execute_result"
    }
   ],
   "source": [
    "x_float = float(x_int)\n",
    "type(x_float)"
   ]
  },
  {
   "cell_type": "code",
   "execution_count": 55,
   "metadata": {},
   "outputs": [
    {
     "data": {
      "text/plain": [
       "99.0"
      ]
     },
     "execution_count": 55,
     "metadata": {},
     "output_type": "execute_result"
    }
   ],
   "source": [
    "x_float"
   ]
  },
  {
   "cell_type": "code",
   "execution_count": 56,
   "metadata": {},
   "outputs": [
    {
     "data": {
      "text/plain": [
       "type"
      ]
     },
     "execution_count": 56,
     "metadata": {},
     "output_type": "execute_result"
    }
   ],
   "source": [
    "type(type(x_float))"
   ]
  },
  {
   "cell_type": "markdown",
   "metadata": {},
   "source": [
    "## データ型を変えずに穴埋め"
   ]
  },
  {
   "cell_type": "markdown",
   "metadata": {},
   "source": [
    "1. データ型を保持しておくデータフレームを作成\n",
    "2. データをNoneにのみ代入（NaNは無視）\n",
    "3. データ型が代入した値に応じて列ごとに変化してしまうので、"
   ]
  },
  {
   "cell_type": "code",
   "execution_count": 57,
   "metadata": {},
   "outputs": [
    {
     "data": {
      "text/html": [
       "<div>\n",
       "<style scoped>\n",
       "    .dataframe tbody tr th:only-of-type {\n",
       "        vertical-align: middle;\n",
       "    }\n",
       "\n",
       "    .dataframe tbody tr th {\n",
       "        vertical-align: top;\n",
       "    }\n",
       "\n",
       "    .dataframe thead th {\n",
       "        text-align: right;\n",
       "    }\n",
       "</style>\n",
       "<table border=\"1\" class=\"dataframe\">\n",
       "  <thead>\n",
       "    <tr style=\"text-align: right;\">\n",
       "      <th></th>\n",
       "      <th>hash</th>\n",
       "      <th>age</th>\n",
       "      <th>wt</th>\n",
       "    </tr>\n",
       "  </thead>\n",
       "  <tbody>\n",
       "    <tr>\n",
       "      <th>0</th>\n",
       "      <td>&lt;class 'int'&gt;</td>\n",
       "      <td>&lt;class 'int'&gt;</td>\n",
       "      <td>&lt;class 'float'&gt;</td>\n",
       "    </tr>\n",
       "    <tr>\n",
       "      <th>1</th>\n",
       "      <td>&lt;class 'int'&gt;</td>\n",
       "      <td>&lt;class 'NoneType'&gt;</td>\n",
       "      <td>&lt;class 'NoneType'&gt;</td>\n",
       "    </tr>\n",
       "    <tr>\n",
       "      <th>2</th>\n",
       "      <td>&lt;class 'int'&gt;</td>\n",
       "      <td>&lt;class 'NoneType'&gt;</td>\n",
       "      <td>&lt;class 'NoneType'&gt;</td>\n",
       "    </tr>\n",
       "    <tr>\n",
       "      <th>3</th>\n",
       "      <td>&lt;class 'int'&gt;</td>\n",
       "      <td>&lt;class 'float'&gt;</td>\n",
       "      <td>&lt;class 'int'&gt;</td>\n",
       "    </tr>\n",
       "  </tbody>\n",
       "</table>\n",
       "</div>"
      ],
      "text/plain": [
       "            hash                 age                  wt\n",
       "0  <class 'int'>       <class 'int'>     <class 'float'>\n",
       "1  <class 'int'>  <class 'NoneType'>  <class 'NoneType'>\n",
       "2  <class 'int'>  <class 'NoneType'>  <class 'NoneType'>\n",
       "3  <class 'int'>     <class 'float'>       <class 'int'>"
      ]
     },
     "execution_count": 57,
     "metadata": {},
     "output_type": "execute_result"
    }
   ],
   "source": [
    "# 1. データ型を保持しておくデータフレームを作成\n",
    "dfm_type = dfm.copy()\n",
    "\n",
    "# データ型で置き代えるラムダ式\n",
    "# set_type = lambda x: type(x)\n",
    "def get_type(val):\n",
    "    return type(val)\n",
    "\n",
    "dfm_type = dfm_type.applymap(get_type)\n",
    "\n",
    "dfm_type"
   ]
  },
  {
   "cell_type": "code",
   "execution_count": 58,
   "metadata": {},
   "outputs": [
    {
     "data": {
      "text/html": [
       "<div>\n",
       "<style scoped>\n",
       "    .dataframe tbody tr th:only-of-type {\n",
       "        vertical-align: middle;\n",
       "    }\n",
       "\n",
       "    .dataframe tbody tr th {\n",
       "        vertical-align: top;\n",
       "    }\n",
       "\n",
       "    .dataframe thead th {\n",
       "        text-align: right;\n",
       "    }\n",
       "</style>\n",
       "<table border=\"1\" class=\"dataframe\">\n",
       "  <thead>\n",
       "    <tr style=\"text-align: right;\">\n",
       "      <th></th>\n",
       "      <th>hash</th>\n",
       "      <th>age</th>\n",
       "      <th>wt</th>\n",
       "    </tr>\n",
       "  </thead>\n",
       "  <tbody>\n",
       "    <tr>\n",
       "      <th>0</th>\n",
       "      <td>10</td>\n",
       "      <td>28.0</td>\n",
       "      <td>56.1</td>\n",
       "    </tr>\n",
       "    <tr>\n",
       "      <th>1</th>\n",
       "      <td>20</td>\n",
       "      <td>99.0</td>\n",
       "      <td>None</td>\n",
       "    </tr>\n",
       "    <tr>\n",
       "      <th>2</th>\n",
       "      <td>30</td>\n",
       "      <td>99.0</td>\n",
       "      <td>None</td>\n",
       "    </tr>\n",
       "    <tr>\n",
       "      <th>3</th>\n",
       "      <td>40</td>\n",
       "      <td>NaN</td>\n",
       "      <td>100</td>\n",
       "    </tr>\n",
       "  </tbody>\n",
       "</table>\n",
       "</div>"
      ],
      "text/plain": [
       "   hash   age    wt\n",
       "0    10  28.0  56.1\n",
       "1    20  99.0  None\n",
       "2    30  99.0  None\n",
       "3    40   NaN   100"
      ]
     },
     "execution_count": 58,
     "metadata": {},
     "output_type": "execute_result"
    }
   ],
   "source": [
    "# 2. データ型を確認し、'NoneType'の場合のみ代入\n",
    "\n",
    "DEFAULT = AGE_DEFAULT\n",
    "\n",
    "def set_default(val):\n",
    "    if isinstance(val, type(None)):\n",
    "        return DEFAULT\n",
    "    else:\n",
    "        return val    \n",
    "    \n",
    "    \n",
    "dfm['age'] = dfm['age'].map(set_default)\n",
    "\n",
    "# 保持しておいたデータ型を適用\n",
    "# うまくいかない→列ごとに制約がかかっている…？\n",
    "for i in range(len(dfm)):\n",
    "    pre_type = dfm_type.loc[i, 'age']\n",
    "    if pre_type == type(None):\n",
    "        if isinstance(AGE_DEFAULT, int):\n",
    "            dfm.loc[i, 'age'] = int(dfm.loc[i, 'age'])\n",
    "        elif isinstance(AGE_DEFAULT, float):\n",
    "            dfm.loc[i, 'age'] = float(dfm.loc[i, 'age'])\n",
    "    elif pre_type == int:\n",
    "        dfm.loc[i, 'age'] = int(dfm.loc[i, 'age'])\n",
    "    elif pre_type == float:\n",
    "        dfm.loc[i, 'age'] = float(dfm.loc[i, 'age'])\n",
    "\n",
    "dfm"
   ]
  },
  {
   "cell_type": "code",
   "execution_count": 59,
   "metadata": {
    "scrolled": false
   },
   "outputs": [
    {
     "data": {
      "text/plain": [
       "99"
      ]
     },
     "execution_count": 59,
     "metadata": {},
     "output_type": "execute_result"
    }
   ],
   "source": [
    "AGE_DEFAULT"
   ]
  },
  {
   "cell_type": "code",
   "execution_count": 60,
   "metadata": {},
   "outputs": [
    {
     "data": {
      "text/plain": [
       "float"
      ]
     },
     "execution_count": 60,
     "metadata": {},
     "output_type": "execute_result"
    }
   ],
   "source": [
    "dfm_type.loc[i, 'age']"
   ]
  },
  {
   "cell_type": "code",
   "execution_count": 61,
   "metadata": {
    "scrolled": true
   },
   "outputs": [
    {
     "name": "stdout",
     "output_type": "stream",
     "text": [
      "[hash]==================\n",
      "0    <class 'int'>\n",
      "1    <class 'int'>\n",
      "2    <class 'int'>\n",
      "3    <class 'int'>\n",
      "Name: hash, dtype: object\n",
      "\n",
      "[age]==================\n",
      "0    <class 'float'>\n",
      "1    <class 'float'>\n",
      "2    <class 'float'>\n",
      "3    <class 'float'>\n",
      "Name: age, dtype: object\n",
      "\n",
      "[wt]==================\n",
      "0       <class 'float'>\n",
      "1    <class 'NoneType'>\n",
      "2    <class 'NoneType'>\n",
      "3         <class 'int'>\n",
      "Name: wt, dtype: object\n",
      "\n"
     ]
    }
   ],
   "source": [
    "for col in dfm.columns:\n",
    "    print('[{}]=================='.format(col))\n",
    "    print(dfm[col].map(type))\n",
    "    print()"
   ]
  },
  {
   "cell_type": "code",
   "execution_count": 39,
   "metadata": {},
   "outputs": [
    {
     "data": {
      "text/plain": [
       "99"
      ]
     },
     "execution_count": 39,
     "metadata": {},
     "output_type": "execute_result"
    }
   ],
   "source": [
    "int(99.0)"
   ]
  },
  {
   "cell_type": "markdown",
   "metadata": {},
   "source": [
    "---"
   ]
  },
  {
   "cell_type": "code",
   "execution_count": null,
   "metadata": {},
   "outputs": [],
   "source": []
  },
  {
   "cell_type": "code",
   "execution_count": null,
   "metadata": {},
   "outputs": [],
   "source": []
  },
  {
   "cell_type": "code",
   "execution_count": 9,
   "metadata": {},
   "outputs": [
    {
     "data": {
      "text/html": [
       "<div>\n",
       "<style scoped>\n",
       "    .dataframe tbody tr th:only-of-type {\n",
       "        vertical-align: middle;\n",
       "    }\n",
       "\n",
       "    .dataframe tbody tr th {\n",
       "        vertical-align: top;\n",
       "    }\n",
       "\n",
       "    .dataframe thead th {\n",
       "        text-align: right;\n",
       "    }\n",
       "</style>\n",
       "<table border=\"1\" class=\"dataframe\">\n",
       "  <thead>\n",
       "    <tr style=\"text-align: right;\">\n",
       "      <th></th>\n",
       "      <th>hash</th>\n",
       "      <th>age</th>\n",
       "      <th>wt</th>\n",
       "    </tr>\n",
       "  </thead>\n",
       "  <tbody>\n",
       "    <tr>\n",
       "      <th>0</th>\n",
       "      <td>10</td>\n",
       "      <td>28</td>\n",
       "      <td>56.1</td>\n",
       "    </tr>\n",
       "    <tr>\n",
       "      <th>1</th>\n",
       "      <td>20</td>\n",
       "      <td>99</td>\n",
       "      <td>99.0</td>\n",
       "    </tr>\n",
       "    <tr>\n",
       "      <th>2</th>\n",
       "      <td>30</td>\n",
       "      <td>99</td>\n",
       "      <td>99.0</td>\n",
       "    </tr>\n",
       "    <tr>\n",
       "      <th>3</th>\n",
       "      <td>40</td>\n",
       "      <td>99</td>\n",
       "      <td>100.0</td>\n",
       "    </tr>\n",
       "  </tbody>\n",
       "</table>\n",
       "</div>"
      ],
      "text/plain": [
       "   hash  age     wt\n",
       "0    10   28   56.1\n",
       "1    20   99   99.0\n",
       "2    30   99   99.0\n",
       "3    40   99  100.0"
      ]
     },
     "execution_count": 9,
     "metadata": {},
     "output_type": "execute_result"
    }
   ],
   "source": [
    "# 欠損箇所を埋める既定値には列ごとにある。データはintとflortの場合がある\n",
    "# これはダメなケース\n",
    "# AGE_DEFAULT = 99\n",
    "# WT_DEFAULT = 99.9\n",
    "\n",
    "dfm = dfm.fillna(99)\n",
    "\n",
    "dfm"
   ]
  },
  {
   "cell_type": "code",
   "execution_count": 39,
   "metadata": {
    "scrolled": true
   },
   "outputs": [
    {
     "data": {
      "text/html": [
       "<div>\n",
       "<style scoped>\n",
       "    .dataframe tbody tr th:only-of-type {\n",
       "        vertical-align: middle;\n",
       "    }\n",
       "\n",
       "    .dataframe tbody tr th {\n",
       "        vertical-align: top;\n",
       "    }\n",
       "\n",
       "    .dataframe thead th {\n",
       "        text-align: right;\n",
       "    }\n",
       "</style>\n",
       "<table border=\"1\" class=\"dataframe\">\n",
       "  <thead>\n",
       "    <tr style=\"text-align: right;\">\n",
       "      <th></th>\n",
       "      <th>hash</th>\n",
       "      <th>age</th>\n",
       "      <th>wt</th>\n",
       "    </tr>\n",
       "  </thead>\n",
       "  <tbody>\n",
       "    <tr>\n",
       "      <th>0</th>\n",
       "      <td>10</td>\n",
       "      <td>28</td>\n",
       "      <td>56.1</td>\n",
       "    </tr>\n",
       "    <tr>\n",
       "      <th>1</th>\n",
       "      <td>20</td>\n",
       "      <td>99</td>\n",
       "      <td>99.9</td>\n",
       "    </tr>\n",
       "    <tr>\n",
       "      <th>2</th>\n",
       "      <td>30</td>\n",
       "      <td>99</td>\n",
       "      <td>99.9</td>\n",
       "    </tr>\n",
       "    <tr>\n",
       "      <th>3</th>\n",
       "      <td>40</td>\n",
       "      <td>99</td>\n",
       "      <td>100.0</td>\n",
       "    </tr>\n",
       "  </tbody>\n",
       "</table>\n",
       "</div>"
      ],
      "text/plain": [
       "   hash  age     wt\n",
       "0    10   28   56.1\n",
       "1    20   99   99.9\n",
       "2    30   99   99.9\n",
       "3    40   99  100.0"
      ]
     },
     "execution_count": 39,
     "metadata": {},
     "output_type": "execute_result"
    }
   ],
   "source": [
    "# 2. 列ごとに異なる値で穴埋め\n",
    "# https://note.nkmk.me/python-pandas-nan-dropna-fillna/\n",
    "\n",
    "dfm = dfm.fillna({\n",
    "    'age': AGE_DEFAULT, \n",
    "    'wt': WT_DEFAULT\n",
    "    })\n",
    "\n",
    "dfm"
   ]
  },
  {
   "cell_type": "code",
   "execution_count": null,
   "metadata": {},
   "outputs": [],
   "source": [
    "# 仕様検討中\n",
    "# 　既定値の値もデータ型もそのまま変えずに穴埋めをしたい。\n",
    "# 　穴埋めの既定値を基本的にint型として、float型で穴埋めしたい列名はリストにして引数で指定する\n",
    "#　列内のNoneのところだけに穴埋め処理し、他は影響しないようにしたい\n"
   ]
  },
  {
   "cell_type": "markdown",
   "metadata": {},
   "source": [
    "## 機能を一般化"
   ]
  },
  {
   "cell_type": "code",
   "execution_count": null,
   "metadata": {},
   "outputs": [],
   "source": []
  }
 ],
 "metadata": {
  "kernelspec": {
   "display_name": "Python 3",
   "language": "python",
   "name": "python3"
  },
  "language_info": {
   "codemirror_mode": {
    "name": "ipython",
    "version": 3
   },
   "file_extension": ".py",
   "mimetype": "text/x-python",
   "name": "python",
   "nbconvert_exporter": "python",
   "pygments_lexer": "ipython3",
   "version": "3.7.0"
  }
 },
 "nbformat": 4,
 "nbformat_minor": 2
}
